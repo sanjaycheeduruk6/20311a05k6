{
  "cells": [
    {
      "cell_type": "markdown",
      "metadata": {
        "id": "view-in-github",
        "colab_type": "text"
      },
      "source": [
        "<a href=\"https://colab.research.google.com/github/sanjaycheeduruk6/20311a05k6/blob/master/Untitled0.ipynb\" target=\"_parent\"><img src=\"https://colab.research.google.com/assets/colab-badge.svg\" alt=\"Open In Colab\"/></a>"
      ]
    },
    {
      "cell_type": "code",
      "execution_count": 1,
      "metadata": {
        "colab": {
          "base_uri": "https://localhost:8080/"
        },
        "id": "vT8NHHwJtBqr",
        "outputId": "fdbac68f-dd34-4603-cf60-404db1d6ec40"
      },
      "outputs": [
        {
          "name": "stdout",
          "output_type": "stream",
          "text": [
            "3\n"
          ]
        }
      ],
      "source": [
        "num1=int(input())"
      ]
    },
    {
      "cell_type": "code",
      "source": [
        "menu={\"pizza\":300,\"chicken\":200,\"pista\":200,\"thali\":500,\"cooldrink\":100}\n",
        "print(\"***WELCOME TO SVTH AVENUE***\")\n",
        "print(\"\\nHERE IS OUR's MENU\\n\")\n",
        "bill=0\n",
        "cart=[]\n",
        "for i in menu:\n",
        "  print(i,\":₹\"+str(menu[i]))\n",
        "\n",
        "while True:\n",
        "  order=input(\"what do you like to order:\")\n",
        "  if order==\"stop\":\n",
        "    print(\"sir your bill is:₹\"+str(bill))\n",
        "    print(\"your orders are:\")\n",
        "    for i in cart:\n",
        "      print(i,\"x\" +str(quantity))\n",
        "    break\n",
        "\n",
        "  elif order in menu:\n",
        "    quantity=int(input(f\"how many {order}'s do you want:\"))\n",
        "    bill+=menu[order]*quantity\n",
        "    cart.append(order)\n",
        "\n",
        "  else:\n",
        "    print(\"***sorry we don't server that item****\")\n",
        "\n",
        "\n",
        "\n",
        ""
      ],
      "metadata": {
        "colab": {
          "base_uri": "https://localhost:8080/"
        },
        "id": "3PLos31cR3ID",
        "outputId": "3e0edb89-cf07-4e8a-df7e-489b3effd76d"
      },
      "execution_count": 19,
      "outputs": [
        {
          "output_type": "stream",
          "name": "stdout",
          "text": [
            "***WELCOME TO SVTH AVENUE***\n",
            "\n",
            "HERE IS OUR's MENU\n",
            "\n",
            "pizza :₹300\n",
            "chicken :₹200\n",
            "pista :₹200\n",
            "thali :₹500\n",
            "cooldrink :₹100\n",
            "what do you like to order:pizza\n",
            "how many pizza's do you want:2\n",
            "what do you like to order:cooldrink\n",
            "how many cooldrink's do you want:2\n",
            "what do you like to order:stop\n",
            "sir your bill is:₹800\n",
            "your orders are:\n",
            "pizza x2\n",
            "cooldrink x2\n"
          ]
        }
      ]
    }
  ],
  "metadata": {
    "colab": {
      "provenance": [],
      "authorship_tag": "ABX9TyPkeVRocXHjtSz1wqzXu6jH",
      "include_colab_link": true
    },
    "kernelspec": {
      "display_name": "Python 3",
      "name": "python3"
    },
    "language_info": {
      "name": "python"
    }
  },
  "nbformat": 4,
  "nbformat_minor": 0
}