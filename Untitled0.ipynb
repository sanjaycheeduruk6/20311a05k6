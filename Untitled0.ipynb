{
  "nbformat": 4,
  "nbformat_minor": 0,
  "metadata": {
    "colab": {
      "provenance": [],
      "authorship_tag": "ABX9TyM6CLyDCzGcL1NkjUdjAEgW",
      "include_colab_link": true
    },
    "kernelspec": {
      "name": "python3",
      "display_name": "Python 3"
    },
    "language_info": {
      "name": "python"
    }
  },
  "cells": [
    {
      "cell_type": "markdown",
      "metadata": {
        "id": "view-in-github",
        "colab_type": "text"
      },
      "source": [
        "<a href=\"https://colab.research.google.com/github/sanjaycheeduruk6/20311a05k6/blob/master/Untitled0.ipynb\" target=\"_parent\"><img src=\"https://colab.research.google.com/assets/colab-badge.svg\" alt=\"Open In Colab\"/></a>"
      ]
    },
    {
      "cell_type": "code",
      "execution_count": 1,
      "metadata": {
        "colab": {
          "base_uri": "https://localhost:8080/"
        },
        "id": "gI9dfShlsnPO",
        "outputId": "521526f5-6985-43a8-8c1c-485e54a60ec0"
      },
      "outputs": [
        {
          "output_type": "stream",
          "name": "stdout",
          "text": [
            "Enter the amount that you want to convert : 30000\n",
            "Enter the source currency code: USD\n",
            "Enter the target currency code: INR\n",
            "30000.0 USD is equal to 2485809.00 INR\n"
          ]
        }
      ],
      "source": [
        "import requests\n",
        "\n",
        "def get_exchange_rate(source_currency, target_currency):\n",
        "    api_key = \"8fe0b92bbc36403089d03974\"\n",
        "\n",
        "    url = f\"https://v6.exchangerate-api.com/v6/{api_key}/pair/{source_currency}/{target_currency}\"\n",
        "    try:\n",
        "        response = requests.get(url, params={\"access_key\": api_key})\n",
        "        response.raise_for_status()\n",
        "        data = response.json()\n",
        "        if 'error' in data:\n",
        "            print(\"Error:\", data['error'])\n",
        "            return None\n",
        "        return data['conversion_rate']\n",
        "    except requests.exceptions.RequestException as e:\n",
        "        print(\"Error fetching exchange rate:\", e)\n",
        "        return None\n",
        "\n",
        "def convert_currency(amount, source_currency, target_currency):\n",
        "    exchange_rate = get_exchange_rate(source_currency, target_currency)\n",
        "    if exchange_rate is not None:\n",
        "        converted_amount = amount * exchange_rate\n",
        "        return converted_amount\n",
        "    else:\n",
        "        return None\n",
        "\n",
        "def main():\n",
        "    try:\n",
        "        amount = float(input(\"Enter the amount that you want to convert : \"))\n",
        "        source_currency = input(\"Enter the source currency code: \").upper()\n",
        "        target_currency = input(\"Enter the target currency code: \").upper()\n",
        "\n",
        "        converted_amount = convert_currency(amount, source_currency, target_currency)\n",
        "        if converted_amount is not None:\n",
        "            print(f\"{amount} {source_currency} is equal to {converted_amount:.2f} {target_currency}\")\n",
        "    except ValueError:\n",
        "        print(\"Invalid input. Please enter a valid number for the amount.\")\n",
        "\n",
        "if __name__ == \"__main__\":\n",
        "    main()"
      ]
    },
    {
      "cell_type": "code",
      "source": [],
      "metadata": {
        "id": "8oTCuLDvs-c6"
      },
      "execution_count": null,
      "outputs": []
    },
    {
      "cell_type": "code",
      "source": [],
      "metadata": {
        "id": "3RaRZgd5s-wC"
      },
      "execution_count": null,
      "outputs": []
    }
  ]
}